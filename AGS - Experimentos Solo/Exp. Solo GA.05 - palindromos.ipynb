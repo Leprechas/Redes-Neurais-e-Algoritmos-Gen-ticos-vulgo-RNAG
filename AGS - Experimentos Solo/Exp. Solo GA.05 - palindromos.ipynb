{
 "cells": [
  {
   "cell_type": "markdown",
   "metadata": {},
   "source": [
    "Novos palíndromos\n",
    "===============\n",
    "\n"
   ]
  },
  {
   "cell_type": "markdown",
   "metadata": {},
   "source": [
    "## Introdução\n",
    "\n"
   ]
  },
  {
   "cell_type": "markdown",
   "metadata": {},
   "source": [
    "Não tem!\n"
   ]
  },
  {
   "cell_type": "markdown",
   "metadata": {},
   "source": [
    "## Reflexões\n",
    "\n"
   ]
  },
  {
   "cell_type": "markdown",
   "metadata": {},
   "source": [
    "Não tem!\n",
    "\n",
    "\n"
   ]
  },
  {
   "cell_type": "markdown",
   "metadata": {},
   "source": [
    "## Objetivo\n",
    "\n"
   ]
  },
  {
   "cell_type": "markdown",
   "metadata": {},
   "source": [
    "**Objetivo**: Encontre pelo menos 10 palíndromos de 5 letras. Estes palíndromos devem ter pelo menos uma vogal. Não é necessário que eles formem palavras válidas em português ou qualquer outro idioma."
   ]
  },
  {
   "cell_type": "markdown",
   "metadata": {},
   "source": [
    "## Descrição do problema\n",
    "\n"
   ]
  },
  {
   "cell_type": "markdown",
   "metadata": {},
   "source": [
    "Não tem!\n",
    "\n"
   ]
  },
  {
   "cell_type": "markdown",
   "metadata": {},
   "source": [
    "## Importações\n",
    "\n"
   ]
  },
  {
   "cell_type": "code",
   "execution_count": 1,
   "metadata": {},
   "outputs": [],
   "source": [
    "import random\n",
    "from funcoes import populacao_inicial_senha as letra_inicial_senha\n",
    "from funcoes import funcao_objetivo_pop_senha as funcao_objetivo_letra_senha\n",
    "from funcoes import selecao_torneio_min\n",
    "from funcoes import cruzamento_ponto_simples as funcao_cruzamento\n",
    "from funcoes import mutacao_senha"
   ]
  },
  {
   "cell_type": "markdown",
   "metadata": {},
   "source": [
    "## Códigos e discussão\n",
    "\n"
   ]
  },
  {
   "cell_type": "code",
   "execution_count": 2,
   "metadata": {},
   "outputs": [],
   "source": [
    "### CONSTANTES\n",
    "\n",
    "# relacionadas à busca\n",
    "TAMANHO_POP = 50\n",
    "NUM_GERACOES = 200\n",
    "CHANCE_CRUZAMENTO = 0.5\n",
    "CHANCE_MUTACAO = 0.05\n",
    "NUM_COMBATENTES_NO_TORNEIO = 3\n",
    "\n",
    "# relacionadas ao problema a ser resulvido\n",
    "SENHA = \"vitor\"\n",
    "VOGAIS = \"aeiou\"\n",
    "LETRAS_POSSIVEIS = \"abcdefghijklmnopqrstuvwxyz\"\n",
    "NUM_GENES = len(SENHA)"
   ]
  },
  {
   "cell_type": "code",
   "execution_count": 3,
   "metadata": {},
   "outputs": [],
   "source": [
    "# funções locais\n",
    "\n",
    "def letra_inicial(tamanho, tamanho_senha):\n",
    "    return letra_inicial_senha(tamanho, tamanho_senha, LETRAS_POSSIVEIS)\n",
    "\n",
    "def funcao_objetivo_letra(populacao):\n",
    "    return funcao_objetivo_letra_senha(populacao, SENHA)\n",
    "\n",
    "def funcao_selecao(populacao, fitness):\n",
    "    return selecao_torneio_min(populacao, fitness, NUM_COMBATENTES_NO_TORNEIO)\n",
    "\n",
    "def funcao_mutacao(individuo):\n",
    "    return mutacao_senha(individuo, LETRAS_POSSIVEIS)\n",
    "\n",
    "#função nova, se liga hein, ela vai verificar se a palavra é um palíndromo\n",
    "def palin_conf(letra):\n",
    "#se for um palindromo retorna True, caso n for retorna False\n",
    "    return letra == letra[::-1] and any(v in letra for v in VOGAIS)\n",
    "#any, basicamente é uma função do py que retorna True ou False"
   ]
  },
  {
   "cell_type": "code",
   "execution_count": null,
   "metadata": {},
   "outputs": [],
   "source": [
    "populacao = letra_inicial(TAMANHO_POP, NUM_GENES)\n",
    "\n",
    "melhor_fitness_ja_visto = float(\"inf\")  # é assim que escrevemos infinito em python\n",
    "\n",
    "palin = []  # armazen de palíndromos\n",
    "\n",
    "while len(palin) < 10:\n",
    "    # troquei o for por while, pois o while vai repetir o bloco até eu achar os palin, o que o for não iria conseguir fazer\n",
    "\n",
    "    # Seleção\n",
    "    fitness = funcao_objetivo_letra(populacao)\n",
    "    populacao = funcao_selecao(populacao, fitness)\n",
    "\n",
    "    # Cruzamento\n",
    "    pais = populacao[0::2]\n",
    "    maes = populacao[1::2]\n",
    "\n",
    "    contador = 0\n",
    "\n",
    "    for pai, mae in zip(pais, maes):\n",
    "        if random.random() <= CHANCE_CRUZAMENTO:\n",
    "            filho1, filho2 = funcao_cruzamento(pai, mae)\n",
    "            populacao[contador] = filho1\n",
    "            populacao[contador + 1] = filho2\n",
    "        contador = contador + 2\n",
    "    # Mutação\n",
    "    for n in range(len(populacao)):\n",
    "        if random.random() <= CHANCE_MUTACAO:\n",
    "            individuo = populacao[n]\n",
    "            populacao[n] = funcao_mutacao(individuo)\n",
    "    # se liga que tem coisa surgindo aqui hein;\n",
    "    # Vamos verificar se existe algum palin da pop agora;\n",
    "    for individuo in populacao:\n",
    "        palavra = \"\".join(\n",
    "            individuo\n",
    "        )  # o \".join\" vai juntar as letras, em uma string única\n",
    "        if (\n",
    "            palin_conf(palavra) and len(palin) < 10\n",
    "        ):  # len vai falar o número atual de palins encontrados\n",
    "            palin.append(\n",
    "                palavra\n",
    "            )  # .append vai adicionar os palins encontrados a lista q criamos lá em cima\n",
    "            \n",
    "print(\"Os 10 palins lacradores são:\")\n",
    "for v in palin:\n",
    "    print(v)"
   ]
  },
  {
   "cell_type": "code",
   "execution_count": null,
   "metadata": {},
   "outputs": [],
   "source": [
    "#Código louco dnv, eu adoro busca em grade, mas pelo jeito n funciona aqui tbm, travou o note dnv\n",
    "\n",
    "#for gene1 in [\"v\",\"i\",\"t\",\"o\",\"r\"]:\n",
    "#    for gene2 in [\"v\",\"i\",\"t\",\"o\",\"r\"]:\n",
    "#        for gene3 in [\"v\",\"i\",\"t\",\"o\",\"r\"]:\n",
    "#            for gene4 in [\"v\",\"i\",\"t\",\"o\",\"r\"]:\n",
    "#                for gene5 in [\"v\",\"i\",\"t\",\"o\",\"r\"]:\n",
    "#                    palindromo = [gene1, gene2, gene3, gene4, gene5]\n",
    "#                    print(palindromo)"
   ]
  },
  {
   "cell_type": "markdown",
   "metadata": {},
   "source": [
    "## Conclusão\n",
    "\n"
   ]
  },
  {
   "cell_type": "markdown",
   "metadata": {},
   "source": [
    "Os palindromos foram printados, utilizando o código de AG, mas alguns palindromos se repetiram, o que na minha opnião foge do objetivo, pois tem como existir mais de 10 palindromos com a palavra \"vitor\", eu deveria inserir mais um críterio na produção dos palindromos, aonde eles não podem ser iguais a um pré-existente, mas eu n sei fazer isso, ou se já aprendi, eu apenas não lembro."
   ]
  },
  {
   "cell_type": "markdown",
   "metadata": {},
   "source": [
    "## Hipocampo"
   ]
  },
  {
   "cell_type": "markdown",
   "metadata": {},
   "source": [
    "O tarefa complicada, quase quebrou meu notebook"
   ]
  },
  {
   "cell_type": "markdown",
   "metadata": {},
   "source": [
    "## Playground\n",
    "\n"
   ]
  },
  {
   "cell_type": "code",
   "execution_count": null,
   "metadata": {},
   "outputs": [],
   "source": []
  }
 ],
 "metadata": {
  "kernelspec": {
   "display_name": "ilumpy",
   "language": "python",
   "name": "ilumpy"
  },
  "language_info": {
   "codemirror_mode": {
    "name": "ipython",
    "version": 3
   },
   "file_extension": ".py",
   "mimetype": "text/x-python",
   "name": "python",
   "nbconvert_exporter": "python",
   "pygments_lexer": "ipython3",
   "version": "3.9.7"
  },
  "org": null
 },
 "nbformat": 4,
 "nbformat_minor": 4
}
