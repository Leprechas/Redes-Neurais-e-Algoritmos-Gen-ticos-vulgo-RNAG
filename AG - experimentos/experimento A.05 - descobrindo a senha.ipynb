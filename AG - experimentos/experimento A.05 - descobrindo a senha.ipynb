{
 "cells": [
  {
   "cell_type": "markdown",
   "metadata": {},
   "source": [
    "Descobrindo a senha\n",
    "===================\n",
    "\n"
   ]
  },
  {
   "cell_type": "markdown",
   "metadata": {},
   "source": [
    "## Objetivo\n",
    "\n"
   ]
  },
  {
   "cell_type": "markdown",
   "metadata": {},
   "source": [
    "Usar um algoritmo genético para descobrir uma senha.\n",
    "\n"
   ]
  },
  {
   "cell_type": "markdown",
   "metadata": {},
   "source": [
    "## Descrição do problema\n",
    "\n"
   ]
  },
  {
   "cell_type": "markdown",
   "metadata": {},
   "source": [
    "Neste problema, a função objetivo deve saber a senha correta e quantificar de alguma maneira o quão perto ou longe os palpites estão da solução (veja que isso é algo que não temos no mundo real. Nenhum site irá te dizer se você está acertando ou errando seu palpite). O critério de parada deste problema é quando a senha for descoberta.\n",
    "\n"
   ]
  },
  {
   "cell_type": "markdown",
   "metadata": {},
   "source": [
    "## Importações\n",
    "\n"
   ]
  },
  {
   "cell_type": "code",
   "execution_count": 1,
   "metadata": {},
   "outputs": [],
   "source": [
    "import random\n",
    "import time\n",
    "from funcoes import populacao_inicial_senha as letra_inicial_senha\n",
    "from funcoes import funcao_objetivo_pop_senha as funcao_objetivo_letra_senha\n",
    "from funcoes import selecao_torneio_min\n",
    "from funcoes import cruzamento_ponto_simples as funcao_cruzamento\n",
    "from funcoes import mutacao_senha"
   ]
  },
  {
   "cell_type": "markdown",
   "metadata": {},
   "source": [
    "## Códigos e discussão\n",
    "\n"
   ]
  },
  {
   "cell_type": "code",
   "execution_count": 6,
   "metadata": {},
   "outputs": [],
   "source": [
    "### CONSTANTES\n",
    "\n",
    "# relacionadas à busca\n",
    "TAMANHO_POP = 50\n",
    "NUM_GERACOES = 500 #reduzi para 125, pois a senha tem apenas 5 letras e 125 é uma ótima margem para poucas letras\n",
    "CHANCE_CRUZAMENTO = 0.5\n",
    "CHANCE_MUTACAO = 0.05\n",
    "NUM_COMBATENTES_NO_TORNEIO = 3\n",
    "\n",
    "# relacionadas ao problema a ser resulvido\n",
    "SENHA = \"vitorbarelli\"\n",
    "LETRAS_POSSIVEIS = \"abcdefghijklmnopqrstuvwxyz\"\n",
    "NUM_GENES = len(SENHA)"
   ]
  },
  {
   "cell_type": "code",
   "execution_count": 7,
   "metadata": {},
   "outputs": [],
   "source": [
    "# funções locais\n",
    "\n",
    "def letra_inicial(tamanho, tamanho_senha):\n",
    "    return letra_inicial_senha(tamanho, tamanho_senha, LETRAS_POSSIVEIS)\n",
    "\n",
    "def funcao_objetivo_letra(populacao):\n",
    "    return funcao_objetivo_letra_senha(populacao, SENHA)\n",
    "\n",
    "def funcao_selecao(populacao, fitness):\n",
    "    return selecao_torneio_min(populacao, fitness, NUM_COMBATENTES_NO_TORNEIO)\n",
    "\n",
    "def funcao_mutacao(individuo):\n",
    "    return mutacao_senha(individuo, LETRAS_POSSIVEIS)"
   ]
  },
  {
   "cell_type": "code",
   "execution_count": 8,
   "metadata": {},
   "outputs": [
    {
     "name": "stdout",
     "output_type": "stream",
     "text": [
      "Progresso da melhor senha já vista:\n",
      "xfulhtbrdlse - fitness: 50\n",
      "lntogkbrdlse - fitness: 48\n",
      "liuogkbrdlsi - fitness: 40\n",
      "xfulhkbrdlsi - fitness: 37\n",
      "xiuogkbrdlie - fitness: 32\n",
      "xfutkabrdlsi - fitness: 28\n",
      "xiuogabrdlie - fitness: 24\n",
      "xiuokabrdlsi - fitness: 20\n",
      "xiuokabrdlii - fitness: 16\n",
      "xitokabrdlii - fitness: 15\n",
      "uitokabrdlii - fitness: 14\n",
      "uitosabrdlii - fitness: 8\n",
      "uitosabrdlni - fitness: 7\n",
      "uitorabrdlni - fitness: 6\n",
      "uitorabrdlmi - fitness: 5\n",
      "uitorabrelmi - fitness: 4\n",
      "uitorabrelli - fitness: 3\n",
      "vitorabrelli - fitness: 2\n",
      "vitoraarelli - fitness: 1\n",
      "vitorbarelli - fitness: 0\n",
      "\n",
      "Melhor palpite da senha encontrado:\n",
      "vitorbarelli\n"
     ]
    }
   ],
   "source": [
    "iniS = time.perf_counter() \n",
    "\n",
    "populacao = letra_inicial(TAMANHO_POP, NUM_GENES)\n",
    "\n",
    "melhor_fitness_ja_visto = float(\"inf\")  # é assim que escrevemos infinito em python\n",
    "\n",
    "print(\"Progresso da melhor senha já vista:\")\n",
    "\n",
    "for n in range(NUM_GERACOES):       \n",
    "    \n",
    "    # Seleção\n",
    "    fitness = funcao_objetivo_letra(populacao)\n",
    "    populacao = funcao_selecao(populacao, fitness)\n",
    "    \n",
    "    # Cruzamento\n",
    "    pais = populacao[0::2]\n",
    "    maes = populacao[1::2]\n",
    "    \n",
    "    contador = 0\n",
    "    \n",
    "    for pai, mae in zip(pais, maes):\n",
    "        if random.random() <= CHANCE_CRUZAMENTO:\n",
    "            filho1, filho2 = funcao_cruzamento(pai, mae)\n",
    "            populacao[contador] = filho1\n",
    "            populacao[contador + 1] = filho2\n",
    "        \n",
    "        contador = contador + 2   \n",
    "        \n",
    "    # Mutação\n",
    "    for n in range(len(populacao)):\n",
    "        if random.random() <= CHANCE_MUTACAO:\n",
    "            individuo = populacao[n]\n",
    "            populacao[n] = funcao_mutacao(individuo)            \n",
    "            \n",
    "    # melhor individuo já visto até agora\n",
    "    fitness = funcao_objetivo_letra(populacao)\n",
    "    menor_fitness = min(fitness)\n",
    "    if menor_fitness < melhor_fitness_ja_visto:        \n",
    "        posicao = fitness.index(menor_fitness)\n",
    "        melhor_individuo_ja_visto = populacao[posicao]\n",
    "        melhor_fitness_ja_visto = menor_fitness\n",
    "        print(\"\".join(melhor_individuo_ja_visto), \"- fitness:\", melhor_fitness_ja_visto)\n",
    "        \n",
    "print()\n",
    "print(\"Melhor palpite da senha encontrado:\")\n",
    "print(\"\".join(melhor_individuo_ja_visto))\n",
    "\n",
    "fimS = time.perf_counter()"
   ]
  },
  {
   "cell_type": "code",
   "execution_count": 9,
   "metadata": {},
   "outputs": [
    {
     "name": "stdout",
     "output_type": "stream",
     "text": [
      "O código de Busca de Senha, Durou essa penca de tempo aqui: 0.799538699999971 segundos\n"
     ]
    }
   ],
   "source": [
    "#Performance de AG senha\n",
    "\n",
    "TICTOCS = fimS - iniS\n",
    "print(\"O código de Busca de Senha, Durou essa penca de tempo aqui:\", TICTOCS, \"segundos\")"
   ]
  },
  {
   "cell_type": "markdown",
   "metadata": {},
   "source": [
    "## Conclusão\n",
    "\n",
    "O código continua sendo probabilístico (Mesmo que ele apresente uma semelhança com o Busca em Grade que é determinístico), contudo, com um novo critério de parada e um problema mais específico ele pareceu ser mais eficiente que o normal, por esse motivo rodei um código de desempenho nele e por incrível que pareça ele demorou mais que um algoritmo genético normal(Experimento A.03),mas para ter certeza vamos rodar esse mesmo código de desempenho no experimento A.04, que tem bem mais variáveis que o experimento A.05, mas apresenta um objetivo fechado e ele foi consideravelmente normal, o da senha(Experimento A.05) rodou em 0.07e +/- 0.01s de erro e o do experimento A.04 rodou em 0.002s +/- 0.001s de erro, logo a eficiencia do algoritmo vai depender do tamanho do critério de parada, no caso desse notebook, quando temos uma senha pequena ele roda rápido, mas quanto maior a senha mais tempo ele demora, mas nada grandioso!\n",
    "\n",
    "OBS: Em uma comparação já feita, mas vou trazer a discussão aqui novamente, os algoritmos genéticos podem parecer menos eficientes que os de grade, mas quando falamos de problemas grandes, os de grade costumam demorar muito mais que os genéticos, então os genéticos são mais adaptáveis e eficientes de forma geral!"
   ]
  },
  {
   "cell_type": "markdown",
   "metadata": {},
   "source": [
    "## Hipocampo\n",
    "\n",
    "Eu mudei a senha e o número de gerações que o código poderia tentar, isso implicou em uma coisa bem engraçada, às vezes a última linha do progresso com fitness=0, não é o melhor palpite informado pelo código, não entendi o pq q isso ocorre, mas acho q é devido à redução do número de gerações, segue um print;\n"
   ]
  },
  {
   "cell_type": "markdown",
   "metadata": {},
   "source": [
    "<img src=\"Bug experimento A.05.png\" width=\"350\">"
   ]
  },
  {
   "cell_type": "markdown",
   "metadata": {},
   "source": [
    "## Playground\n",
    "\n"
   ]
  }
 ],
 "metadata": {
  "kernelspec": {
   "display_name": "ilumpy",
   "language": "python",
   "name": "ilumpy"
  },
  "language_info": {
   "codemirror_mode": {
    "name": "ipython",
    "version": 3
   },
   "file_extension": ".py",
   "mimetype": "text/x-python",
   "name": "python",
   "nbconvert_exporter": "python",
   "pygments_lexer": "ipython3",
   "version": "3.9.7"
  },
  "org": null
 },
 "nbformat": 4,
 "nbformat_minor": 4
}
