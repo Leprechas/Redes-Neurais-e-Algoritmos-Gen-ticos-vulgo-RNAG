{
 "cells": [
  {
   "cell_type": "markdown",
   "metadata": {},
   "source": [
    "Problema das caixas não-binárias\n",
    "================================\n",
    "\n"
   ]
  },
  {
   "cell_type": "markdown",
   "metadata": {},
   "source": [
    "## Objetivo\n",
    "\n"
   ]
  },
  {
   "cell_type": "markdown",
   "metadata": {},
   "source": [
    "Encontrar uma solução para o problema das caixas não-binárias usando um algoritmo genético. Considere 4 caixas. Considere que cada caixa pode ter um valor inteiro dentro do conjunto [0, 100].\n",
    "\n"
   ]
  },
  {
   "cell_type": "markdown",
   "metadata": {},
   "source": [
    "## Descrição do problema\n",
    "\n"
   ]
  },
  {
   "cell_type": "markdown",
   "metadata": {},
   "source": [
    "O problema das caixas não-binárias é simples: nós temos um certo número de caixas e cada uma pode conter um número inteiro. O objetivo é encontrar uma combinação de caixas onde a soma dos valores contidos dentro delas é máximo.\n",
    "\n"
   ]
  },
  {
   "cell_type": "markdown",
   "metadata": {},
   "source": [
    "## Importações\n",
    "\n"
   ]
  },
  {
   "cell_type": "code",
   "execution_count": 1,
   "metadata": {},
   "outputs": [],
   "source": [
    "import random\n",
    "from funcoes import funcao_objetivo_cb\n",
    "import itertools\n",
    "from funcoes import populacao_cnb\n",
    "from funcoes import funcao_objetivo_pop_cnb as funcao_objetivo_pop\n",
    "from funcoes import selecao_roleta_max as funcao_selecao\n",
    "from funcoes import cruzamento_ponto_simples as funcao_cruzamento\n",
    "from funcoes import mutacao_cnb"
   ]
  },
  {
   "cell_type": "markdown",
   "metadata": {},
   "source": [
    "## Códigos e discussão\n",
    "\n"
   ]
  },
  {
   "cell_type": "code",
   "execution_count": 17,
   "metadata": {},
   "outputs": [],
   "source": [
    "### CONSTANTES\n",
    "\n",
    "# relacionadas à busca\n",
    "TAMANHO_POP = 5\n",
    "NUM_GERACOES = 200\n",
    "CHANCE_CRUZAMENTO = 0.5\n",
    "CHANCE_MUTACAO = 0.05\n",
    "\n",
    "# relacionadas ao problema a ser resolvido\n",
    "NUM_GENES = 4\n",
    "VALOR_MAX_CAIXA = 100"
   ]
  },
  {
   "cell_type": "code",
   "execution_count": 18,
   "metadata": {},
   "outputs": [],
   "source": [
    "# funções locais\n",
    "\n",
    "def cria_populacao_inicial(tamanho, n_genes):\n",
    "    return populacao_cnb(tamanho, n_genes, VALOR_MAX_CAIXA)\n",
    "\n",
    "def funcao_mutacao(individuo):\n",
    "    return mutacao_cnb(individuo, VALOR_MAX_CAIXA)"
   ]
  },
  {
   "cell_type": "code",
   "execution_count": 19,
   "metadata": {},
   "outputs": [
    {
     "name": "stdout",
     "output_type": "stream",
     "text": [
      "População inicial:\n",
      "[[32, 27, 22, 34], [68, 89, 87, 3], [53, 40, 84, 88], [16, 91, 67, 38], [82, 27, 19, 15]]\n",
      "\n",
      "População final:\n",
      "[[34, 78, 3, 92], [32, 27, 84, 34], [47, 32, 25, 8], [68, 27, 84, 99], [84, 27, 4, 49]]\n"
     ]
    }
   ],
   "source": [
    "populacao = cria_populacao_inicial(TAMANHO_POP, NUM_GENES)\n",
    "\n",
    "print(\"População inicial:\")\n",
    "print(populacao)\n",
    "\n",
    "for n in range(NUM_GERACOES):    \n",
    "    \n",
    "    # Seleção\n",
    "    fitness = funcao_objetivo_pop(populacao)\n",
    "    populacao1 = funcao_selecao(populacao, fitness)\n",
    "#acrescentei um \"1\" depois de pop pra n me confundir em que momento passa a ser uma pop nova    \n",
    "    # Cruzamento\n",
    "    pais = populacao1[0::2]\n",
    "    maes = populacao1[1::2]\n",
    "    \n",
    "    contador = 0\n",
    "    \n",
    "    for pai, mae in zip(pais, maes):\n",
    "        if random.random() <= CHANCE_CRUZAMENTO:\n",
    "            filho1, filho2 = funcao_cruzamento(pai, mae)\n",
    "            populacao1[contador] = filho1\n",
    "            populacao1[contador + 1] = filho2\n",
    "        \n",
    "        contador = contador + 2   \n",
    "        \n",
    "    # Mutação\n",
    "    for n in range(len(populacao1)):\n",
    "        if random.random() <= CHANCE_MUTACAO:\n",
    "            individuo = populacao1[n]\n",
    "            populacao1[n] = funcao_mutacao(individuo)            \n",
    "\n",
    "print()\n",
    "print(\"População final:\")\n",
    "print(populacao1)"
   ]
  },
  {
   "cell_type": "markdown",
   "metadata": {},
   "source": [
    "## Conclusão"
   ]
  },
  {
   "cell_type": "markdown",
   "metadata": {},
   "source": [
    "Como vimos no experimento 3, o AG é probabilístico, logo, mesmo fazendo 200 gerações ou mais, com um grupo (0 a 100) tão grande de genes a serem escolhidos, podemos considerar que ainda sim não teríamos os melhores indivíduos na população final, mas teríamos os indivíduos reais da situação, para conseguir os melhores indivíduos teríamos que fazer o hall da fama e garantir que os indivíduos que estão no hall da fama passem seus genes para frente, mas sabemos que isso não é completamente possível se mantendo no conceito inicial do AG que é probabilístico."
   ]
  },
  {
   "cell_type": "markdown",
   "metadata": {},
   "source": [
    "## Códigos e discussão BÔNUS"
   ]
  },
  {
   "cell_type": "code",
   "execution_count": 5,
   "metadata": {
    "tags": []
   },
   "outputs": [],
   "source": [
    "# Utilizarei o mesmo código do experimento A.02, vou apenas reciclar ele\n",
    "# preciso de uma lista (0 a 100) para representar meu individuo\n",
    "# quantidade de elementos na lista é o número de genes\n",
    "# cada gene pode ser 0 a 100, vou gerar esses números aleatoriamente\n",
    "\n",
    "#Aqui temos o mesmo código do experimento A.02, mas estou usando a função range para rodar as listas com número de 0 a 100 para cada gene ou caixa\n",
    "#for gene1 in range(101):\n",
    "#    for gene2 in range(101):\n",
    "#        for gene3 in range(101):\n",
    "#            for gene4 in range(101):\n",
    "#                individuo = [gene1, gene2, gene3, gene4]\n",
    "#                funcobj = funcao_objetivo_cb(individuo)\n",
    "#                print(individuo, funcobj)"
   ]
  },
  {
   "cell_type": "markdown",
   "metadata": {},
   "source": [
    "## Conclusão Bônus"
   ]
  },
  {
   "cell_type": "markdown",
   "metadata": {},
   "source": [
    "Tirei a prova na raça que não é eficiente fazer esse experimento com busca em grade, no fim até que funciona, mas tem um alto custo computacional e demorou muito tempo para chegar no 400, logo definitivamente não é eficiente."
   ]
  },
  {
   "cell_type": "markdown",
   "metadata": {},
   "source": [
    "## Hipocampo"
   ]
  },
  {
   "cell_type": "markdown",
   "metadata": {},
   "source": [
    "Assisti uns vídeos sobre algoritmo genético, inclusive vou recomendar um aqui;\n",
    "https://www.youtube.com/watch?v=FYF6lS_BHKA\n",
    "\n",
    "Gostei de tentar fazer esse problema de um jeito diferente, mas eu basicamente troquei a lista de 0 e 1 pro uma função range com 101 números"
   ]
  },
  {
   "cell_type": "markdown",
   "metadata": {},
   "source": [
    "## Playground\n",
    "\n"
   ]
  },
  {
   "cell_type": "code",
   "execution_count": null,
   "metadata": {},
   "outputs": [],
   "source": []
  }
 ],
 "metadata": {
  "kernelspec": {
   "display_name": "ilumpy",
   "language": "python",
   "name": "ilumpy"
  },
  "language_info": {
   "codemirror_mode": {
    "name": "ipython",
    "version": 3
   },
   "file_extension": ".py",
   "mimetype": "text/x-python",
   "name": "python",
   "nbconvert_exporter": "python",
   "pygments_lexer": "ipython3",
   "version": "3.9.7"
  },
  "org": null
 },
 "nbformat": 4,
 "nbformat_minor": 4
}
