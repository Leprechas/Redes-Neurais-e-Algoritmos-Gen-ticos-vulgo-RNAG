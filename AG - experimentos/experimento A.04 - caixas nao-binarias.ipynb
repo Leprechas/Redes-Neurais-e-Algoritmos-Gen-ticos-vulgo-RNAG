{
 "cells": [
  {
   "cell_type": "markdown",
   "metadata": {},
   "source": [
    "Problema das caixas não-binárias\n",
    "================================\n",
    "\n"
   ]
  },
  {
   "cell_type": "markdown",
   "metadata": {},
   "source": [
    "## Objetivo\n",
    "\n"
   ]
  },
  {
   "cell_type": "markdown",
   "metadata": {},
   "source": [
    "Encontrar uma solução para o problema das caixas não-binárias usando um algoritmo genético. Considere 4 caixas. Considere que cada caixa pode ter um valor inteiro dentro do conjunto [0, 100].\n",
    "\n"
   ]
  },
  {
   "cell_type": "markdown",
   "metadata": {},
   "source": [
    "## Descrição do problema\n",
    "\n"
   ]
  },
  {
   "cell_type": "markdown",
   "metadata": {},
   "source": [
    "O problema das caixas não-binárias é simples: nós temos um certo número de caixas e cada uma pode conter um número inteiro. O objetivo é encontrar uma combinação de caixas onde a soma dos valores contidos dentro delas é máximo.\n",
    "\n"
   ]
  },
  {
   "cell_type": "markdown",
   "metadata": {},
   "source": [
    "## Importações\n",
    "\n"
   ]
  },
  {
   "cell_type": "code",
   "execution_count": 1,
   "metadata": {},
   "outputs": [],
   "source": [
    "import random\n",
    "from funcoes import funcao_objetivo_cb\n",
    "import itertools"
   ]
  },
  {
   "cell_type": "markdown",
   "metadata": {},
   "source": [
    "## Códigos e discussão\n",
    "\n"
   ]
  },
  {
   "cell_type": "code",
   "execution_count": null,
   "metadata": {},
   "outputs": [],
   "source": []
  },
  {
   "cell_type": "markdown",
   "metadata": {},
   "source": [
    "## Conclusão"
   ]
  },
  {
   "cell_type": "markdown",
   "metadata": {},
   "source": []
  },
  {
   "cell_type": "markdown",
   "metadata": {},
   "source": [
    "## Códigos e discussão BÔNUS"
   ]
  },
  {
   "cell_type": "code",
   "execution_count": 3,
   "metadata": {
    "tags": []
   },
   "outputs": [],
   "source": [
    "# Utilizarei o mesmo código do experimento A.02, vou apenas reciclar ele\n",
    "# preciso de uma lista (0 a 100) para representar meu individuo\n",
    "# quantidade de elementos na lista é o número de genes\n",
    "# cada gene pode ser 0 a 100, vou gerar esses números aleatoriamente\n",
    "\n",
    "#Aqui temos o mesmo código do experimento A.02, mas estou usando a função range para rodar as listas com número de 0 a 100 para cada gene ou caixa\n",
    "#for gene1 in range(101):\n",
    "#    for gene2 in range(101):\n",
    "#        for gene3 in range(101):\n",
    "#            for gene4 in range(101):\n",
    "#                individuo = [gene1, gene2, gene3, gene4]\n",
    "#                funcobj = funcao_objetivo_cb(individuo)\n",
    "#                print(individuo, funcobj)"
   ]
  },
  {
   "cell_type": "markdown",
   "metadata": {},
   "source": [
    "## Conclusão Bônus"
   ]
  },
  {
   "cell_type": "markdown",
   "metadata": {},
   "source": [
    "Tirei a prova na raça que não é eficiente fazer esse experimento com busca em grade, no fim até que funciona, mas tem um alto custo computacional e demorou muito tempo para chegar no 400, logo definitivamente não é eficiente."
   ]
  },
  {
   "cell_type": "markdown",
   "metadata": {},
   "source": [
    "## Hipocampo"
   ]
  },
  {
   "cell_type": "markdown",
   "metadata": {},
   "source": [
    "Assisti uns vídeos sobre algoritmo genético, inclusive vou recomendar um aqui;\n",
    "https://www.youtube.com/watch?v=FYF6lS_BHKA\n",
    "\n",
    "Gostei de tentar fazer esse problema de um jeito diferente, mas eu basicamente troquei a lista de 0 e 1 pro uma função range com 101 números"
   ]
  },
  {
   "cell_type": "markdown",
   "metadata": {},
   "source": [
    "## Playground\n",
    "\n"
   ]
  },
  {
   "cell_type": "code",
   "execution_count": null,
   "metadata": {},
   "outputs": [],
   "source": []
  }
 ],
 "metadata": {
  "kernelspec": {
   "display_name": "ilumpy",
   "language": "python",
   "name": "ilumpy"
  },
  "language_info": {
   "codemirror_mode": {
    "name": "ipython",
    "version": 3
   },
   "file_extension": ".py",
   "mimetype": "text/x-python",
   "name": "python",
   "nbconvert_exporter": "python",
   "pygments_lexer": "ipython3",
   "version": "3.9.7"
  },
  "org": null
 },
 "nbformat": 4,
 "nbformat_minor": 4
}
