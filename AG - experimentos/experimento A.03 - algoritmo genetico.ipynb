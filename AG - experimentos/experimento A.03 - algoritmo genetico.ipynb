{
 "cells": [
  {
   "cell_type": "markdown",
   "metadata": {},
   "source": [
    "Algoritmo genético\n",
    "==================\n",
    "\n"
   ]
  },
  {
   "cell_type": "markdown",
   "metadata": {},
   "source": [
    "## Introdução\n",
    "\n"
   ]
  },
  {
   "cell_type": "markdown",
   "metadata": {},
   "source": [
    "`Algoritmos genéticos` são algoritmos inspirados na teoria da evolução de Darwin e são ferramentas poderosas para resolver problemas de otimização. De maneira simples, a estratégia consiste em gerar uma população inicial aleatória e através de seleção, cruzamento e mutação sucessivas, gerar populações seguintes. Se feito de maneira correta, as populações seguintes tendem a ser melhores candidatos para a solução do problema do que as populações anteriores.\n",
    "\n",
    "Um algoritmo genético pode parecer um tanto complexo, porém é possível dividi-lo em partes relativamente simples:\n",
    "\n",
    "1.  Criação da população inicial (aleatória)\n",
    "\n",
    "2.  Cálculo da função objetivo para todos os membros da população inicial e atualização do hall da fama\n",
    "\n",
    "3.  Seleção dos indivíduos (quais seguem pra próxima geração)\n",
    "\n",
    "4.  Cruzamento dos indivíduos selecionados (troca de material genético)\n",
    "\n",
    "5.  Mutação dos indivíduos da população recém-criada (possibilidade de trazer informação nova ao sistema)\n",
    "\n",
    "6.  Cálculo da função objetivo para todos os membros da população recém-criada e atualização do hall da fama\n",
    "\n",
    "7.  Checar os critérios de parada. Caso os critérios não tenham sido atendidos, retornar ao passo 3\n",
    "\n",
    "8.  Retornar para o usuário o hall da fama\n",
    "\n"
   ]
  },
  {
   "cell_type": "markdown",
   "metadata": {},
   "source": [
    "## Glossário\n",
    "\n"
   ]
  },
  {
   "cell_type": "markdown",
   "metadata": {},
   "source": [
    "-   `Indivíduo`: um candidato para a solução do problema\n",
    "\n",
    "-   `População`: um conjunto de candidatos para a solução do problema\n",
    "\n",
    "-   `Gene`: um parâmetro que pertence a um indivíduo\n",
    "\n",
    "-   `Cromossomo` ou `genótipo`: um conjunto de genes\n",
    "\n",
    "-   `Geração`: cada população em uma busca genética faz parte de uma geração. A primeira geração é geralmente formada por indivíduos aleatórios (sorteados dentro do espaço de busca). As gerações seguintes são formadas por seleção, cruzamento e mutação da geração anterior. Um dos critérios de parada possíveis para um algoritmo genético é o número máximo de gerações\n",
    "\n",
    "-   `Função de aptidão` ou `função objetivo` ou `função fitness`: uma função que recebe um indivíduo e retorna o seu valor de aptidão. Em um problema de otimização, nós buscamos encontrar soluções que minimizam ou maximizam o valor de aptidão\n",
    "\n",
    "-   `Seleção`: processo onde utilizamos o valor de aptidão dos indivíduos para selecionar quais irão passar seus genes para a geração seguinte\n",
    "\n",
    "-   `Cruzamento`: processo onde o material genético de indivíduos selecionados é misturado\n",
    "\n",
    "-   `Mutação`: processo onde os genes dos indivíduos selecionados têm uma chance de alterar seu valor. A mutação é o único processo capaz de introduzir informação nova ao pool genético após o sorteio aleatório da primeira geração\n",
    "\n",
    "-   `Hall da fama`: conjunto dos $n$ indivíduos que obtiveram os melhores valores de aptidão durante o processo de busca\n",
    "\n"
   ]
  },
  {
   "cell_type": "markdown",
   "metadata": {},
   "source": [
    "## Reflexões\n",
    "\n"
   ]
  },
  {
   "cell_type": "markdown",
   "metadata": {},
   "source": [
    "Você diria que o algoritmo genético é determinístico ou probabilístico?\n",
    "\n",
    "Será que um algoritmo genético é capaz de encontrar mínimos (ou máximos) da função objetivo?\n",
    "\n",
    "O que será que acontece quando não realizamos a etapa de mutação do algoritmo genético?\n",
    "\n",
    "O que será que acontece quando usamos uma chance de mutação muito alta?\n",
    "\n"
   ]
  },
  {
   "cell_type": "markdown",
   "metadata": {},
   "source": [
    "## Objetivo\n",
    "\n"
   ]
  },
  {
   "cell_type": "markdown",
   "metadata": {},
   "source": [
    "Encontrar uma solução para o problema das caixas binárias usando o algoritmo genético. Considere 4 caixas.\n",
    "\n"
   ]
  },
  {
   "cell_type": "markdown",
   "metadata": {},
   "source": [
    "## Descrição do problema\n",
    "\n"
   ]
  },
  {
   "cell_type": "markdown",
   "metadata": {},
   "source": [
    "O problema das caixas binárias é simples: nós temos um certo número de caixas e cada uma pode conter um valor do conjunto $\\{0, 1\\}$. O objetivo é encontrar uma combinação de caixas onde a soma dos valores contidos dentro delas é máximo.\n",
    "\n"
   ]
  },
  {
   "cell_type": "markdown",
   "metadata": {},
   "source": [
    "## Importações\n",
    "\n"
   ]
  },
  {
   "cell_type": "code",
   "execution_count": 1,
   "metadata": {},
   "outputs": [],
   "source": [
    "import random\n",
    "from funcoes import funcao_objetivo_cb, individuo_cb\n",
    "from funcoes import populacao_cb as cria_pop_ini\n",
    "from funcoes import funcao_obj_pop_cb as funcao_objetivo_pop\n",
    "from funcoes import selecao_roleta_max as funcao_selecao\n",
    "from funcoes import cruzamento_ponto_simples as funcao_cruzamento\n",
    "from funcoes import mutacao_cb as funcao_mutacao"
   ]
  },
  {
   "cell_type": "markdown",
   "metadata": {},
   "source": [
    "## Códigos e discussão\n",
    "\n"
   ]
  },
  {
   "cell_type": "code",
   "execution_count": 2,
   "metadata": {},
   "outputs": [],
   "source": [
    "#Vamos criar uma população inicial (vulgo lista/caixa)\n",
    "\n",
    "# função objetivo para a população e criar o hall da fama;\n",
    "\n",
    "# Seleção dos indivíduos;\n",
    "\n",
    "# Cruzamento;\n",
    "\n",
    "# Mutação;\n",
    "\n",
    "# função da obj nova geração de indivíduos e atualizar o hall da fama;\n",
    "\n",
    "# Checar os critérios de parada;\n",
    "\n",
    "#"
   ]
  },
  {
   "cell_type": "code",
   "execution_count": 10,
   "metadata": {},
   "outputs": [],
   "source": [
    "#Constantes\n",
    "TAMANHO_POP = 6\n",
    "NUM_GENES = 4\n",
    "NUM_GERACOES = 10\n",
    "CHANCE_CRUZAMENTO = 0.5\n",
    "CHANCE_MUTACAO = 0.05"
   ]
  },
  {
   "cell_type": "code",
   "execution_count": 21,
   "metadata": {},
   "outputs": [
    {
     "name": "stdout",
     "output_type": "stream",
     "text": [
      "[[1, 0, 0, 0], [0, 1, 0, 0], [1, 0, 0, 0], [1, 1, 1, 1], [0, 1, 1, 0], [1, 0, 0, 1]]\n",
      "\n",
      "\n",
      "[0, 1, 1, 0]\n",
      "[0, 1, 1, 0]\n",
      "\n",
      "[0, 0, 1, 0]\n",
      "[0, 0, 1, 0]\n",
      "\n",
      "[1, 1, 1, 0]\n",
      "[0, 1, 1, 0]\n",
      "\n",
      "[1, 1, 1, 0]\n",
      "[1, 1, 0, 0]\n",
      "\n",
      "[0, 0, 0, 1]\n",
      "[0, 0, 1, 1]\n",
      "\n",
      "[0, 0, 0, 1]\n",
      "[0, 0, 0, 1]\n",
      "\n",
      "População final: [[1, 1, 1, 1], [0, 1, 1, 1], [0, 1, 1, 1], [1, 1, 1, 0], [1, 1, 1, 1], [0, 1, 1, 1]]\n"
     ]
    }
   ],
   "source": [
    "# Vamos criar uma população inicial (vulgo lista/caixa)\n",
    "\n",
    "populacao = cria_pop_ini(TAMANHO_POP, NUM_GENES)\n",
    "\n",
    "print(populacao)\n",
    "print()\n",
    "\n",
    "# o \"_\" indica que a função não é tão importante\n",
    "for n in range(NUM_GERACOES):\n",
    "    # função objetivo para a população e criar o hall da fama;\n",
    "    fitness = funcao_objetivo_pop(populacao)\n",
    "\n",
    "    # Seleção dos indivíduos\n",
    "    populacao = funcao_selecao(populacao, fitness)\n",
    "\n",
    "    pais = populacao[0::2]\n",
    "    maes = populacao[1::2]\n",
    "\n",
    "    contador = 0\n",
    "\n",
    "    for pai, mae in zip(pais, maes):\n",
    "        if random.random() <= CHANCE_CRUZAMENTO:\n",
    "            filho1, filho2 = funcao_cruzamento(pai, mae)\n",
    "            populacao[contador] = filho1\n",
    "            populacao[contador + 1] = filho2\n",
    "        contador = contador + 2\n",
    "        \n",
    "    for i in range(len(populacao)):\n",
    "        if random.random() <= CHANCE_MUTACAO:\n",
    "            individuo = populacao[i]\n",
    "            print()\n",
    "            print(individuo)\n",
    "            populacao[i] = funcao_mutacao(individuo)\n",
    "            print(populacao[i])\n",
    "                  \n",
    "print()\n",
    "print(\"População final:\", populacao)"
   ]
  },
  {
   "cell_type": "markdown",
   "metadata": {
    "tags": []
   },
   "source": [
    "## Conclusão\n"
   ]
  },
  {
   "cell_type": "markdown",
   "metadata": {},
   "source": [
    "Partimos do princípio que o AL é probabilístico, inclusive ele pode para antes do esperado (e achar máximos e mínimos locais) em vez de parar realmente na melhor opção/individuo (aí sim teríamos os máximos e mínimos globais).\n",
    "\n",
    "Se não realizarmos a mutação, teremos menos chances de chegar no melhor individuo, pois não existe uma forma de adicionar um novo gene que vai garantir a chance de existir o melhor individuo, a depender da população inicial não realizar a mutação pode garantir que não existe uma resposta para o problema, vulgo melhor individuo.\n",
    "\n",
    "Mas se utilizarmos muitas mutações, dificilmente vamos achar uma população boa para passar para a nova etapa.\n",
    "\n",
    "O AL é milhares de vezes mais eficiente que Busca aleatória e busca em grade, quando falamos em resolver problemas mais complexos"
   ]
  },
  {
   "cell_type": "markdown",
   "metadata": {},
   "source": [
    "## Hipocampo"
   ]
  },
  {
   "cell_type": "markdown",
   "metadata": {},
   "source": [
    "Essas aulas de programação tão matando meu 1 ano de bio"
   ]
  },
  {
   "cell_type": "markdown",
   "metadata": {},
   "source": [
    "## Referências consultadas"
   ]
  },
  {
   "cell_type": "markdown",
   "metadata": {},
   "source": [
    "## Playground\n",
    "\n"
   ]
  },
  {
   "cell_type": "code",
   "execution_count": 5,
   "metadata": {},
   "outputs": [
    {
     "name": "stdout",
     "output_type": "stream",
     "text": [
      "Melhor solução encontrada: [1, 1, 1, 1]\n",
      "Número de caixas utilizadas: 4\n"
     ]
    }
   ],
   "source": [
    "import random\n",
    "\n",
    "# Define as capacidades das caixas\n",
    "capacities = [50, 50, 50, 50]\n",
    "\n",
    "# Define os objetos a serem alocados nas caixas\n",
    "objects = [10, 20, 30, 10, 20, 30, 10, 20, 30, 10, 20, 30, 10, 20, 30, 10, 20, 30, 10, 20]\n",
    "\n",
    "# Define a função de fitness que avalia a qualidade de cada indivíduo\n",
    "def fitness(individual):\n",
    "    # Inicializa a quantidade de objetos em cada caixa\n",
    "    boxes = [0] * len(capacities)\n",
    "\n",
    "    # Atribui os objetos alocados em cada caixa\n",
    "    for i, gene in enumerate(individual):\n",
    "        if gene == 1:\n",
    "            boxes[i] += objects[i]\n",
    "            if boxes[i] > capacities[i]:\n",
    "                return 0  # solução inválida\n",
    "\n",
    "    # Retorna o número de caixas utilizadas como fitness\n",
    "    return sum([1 for box in boxes if box > 0])\n",
    "\n",
    "# Define os parâmetros do algoritmo genético\n",
    "population_size = 50\n",
    "mutation_rate = 0.01\n",
    "generations = 100\n",
    "\n",
    "# Gera a população inicial\n",
    "population = [[random.randint(0, 1) for _ in range(len(capacities))] for _ in range(population_size)]\n",
    "\n",
    "# Executa o algoritmo genético\n",
    "for i in range(generations):\n",
    "    # Avalia a qualidade da população\n",
    "    fitness_values = [fitness(individual) for individual in population]\n",
    "\n",
    "    # Seleciona os pais usando seleção por torneio\n",
    "    parents = []\n",
    "    for j in range(population_size):\n",
    "        tournament = random.sample(range(population_size), 5)\n",
    "        tournament_fitness = [fitness_values[k] for k in tournament]\n",
    "        winner = tournament_fitness.index(max(tournament_fitness))\n",
    "        parents.append(population[tournament[winner]])\n",
    "\n",
    "    # Realiza o crossover de um ponto\n",
    "    children = []\n",
    "    for j in range(0, population_size, 2):\n",
    "        crossover_point = random.randint(1, len(capacities) - 1)\n",
    "        child1 = parents[j][:crossover_point] + parents[j+1][crossover_point:]\n",
    "        child2 = parents[j+1][:crossover_point] + parents[j][crossover_point:]\n",
    "        children.append(child1)\n",
    "        children.append(child2)\n",
    "\n",
    "    # Realiza a mutação dos genes dos filhos\n",
    "    for child in children:\n",
    "        for j in range(len(capacities)):\n",
    "            if random.random() < mutation_rate:\n",
    "                child[j] = 1 - child[j]\n",
    "\n",
    "    # Atualiza a população com os filhos gerados\n",
    "    population = children\n",
    "\n",
    "# Avalia a qualidade final da população\n",
    "fitness_values = [fitness(individual) for individual in population]\n",
    "\n",
    "# Seleciona a melhor solução\n",
    "best_solution_index = fitness_values.index(max(fitness_values))\n",
    "best_solution = population[best_solution_index]\n",
    "\n",
    "# Imprime a melhor solução encontrada\n",
    "print(\"Melhor solução encontrada:\", best_solution)\n",
    "print(\"Número de caixas utilizadas:\", fitness(best_solution))\n"
   ]
  },
  {
   "cell_type": "code",
   "execution_count": null,
   "metadata": {},
   "outputs": [],
   "source": []
  }
 ],
 "metadata": {
  "kernelspec": {
   "display_name": "ilumpy",
   "language": "python",
   "name": "ilumpy"
  },
  "language_info": {
   "codemirror_mode": {
    "name": "ipython",
    "version": 3
   },
   "file_extension": ".py",
   "mimetype": "text/x-python",
   "name": "python",
   "nbconvert_exporter": "python",
   "pygments_lexer": "ipython3",
   "version": "3.9.7"
  },
  "org": null
 },
 "nbformat": 4,
 "nbformat_minor": 4
}
