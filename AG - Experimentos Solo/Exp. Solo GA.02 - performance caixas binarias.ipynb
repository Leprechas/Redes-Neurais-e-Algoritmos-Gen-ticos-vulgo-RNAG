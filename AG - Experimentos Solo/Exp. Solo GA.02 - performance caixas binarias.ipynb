{
 "cells": [
  {
   "cell_type": "markdown",
   "metadata": {},
   "source": [
    "Comparando as performances\n",
    "===============\n",
    "\n"
   ]
  },
  {
   "cell_type": "markdown",
   "metadata": {},
   "source": [
    "## Introdução\n",
    "\n"
   ]
  },
  {
   "cell_type": "markdown",
   "metadata": {},
   "source": [
    "Não tem!\n"
   ]
  },
  {
   "cell_type": "markdown",
   "metadata": {},
   "source": [
    "## Reflexões\n",
    "\n"
   ]
  },
  {
   "cell_type": "markdown",
   "metadata": {},
   "source": [
    "Não tem!\n",
    "\n",
    "\n"
   ]
  },
  {
   "cell_type": "markdown",
   "metadata": {},
   "source": [
    "## Objetivo\n",
    "\n"
   ]
  },
  {
   "cell_type": "markdown",
   "metadata": {},
   "source": [
    "**Objetivo**: Compare a performance de três algoritmos diferentes de otimização (busca aleatória, busca em grade e algoritmos genéticos) para resolver o problema das caixas binárias.\n",
    "\n",
    "**Lembrete**: nós estudamos performance de algoritmos durante lógica computacional.\n",
    "\n",
    "**Dica**: O enunciado do objetivo não definiu o número de caixas. É esperado de um cientista que ele entenda que não adianta resolver esse problema para apenas um valor de $n$ caixas, mas sim buscar uma tendência resolvendo esse problema para alguns valores de $n$ diferentes. Fique atento pois essa dica não será mais dada a partir de agora mesmo que seja necessário usar desse bom senso científico em problemas futuros.\n",
    "\n",
    "**Dica 2**: Lembre-se de que o único algoritmo determinístico dos três sendo estudados é o de busca em grade. Sendo assim, é esperado que um cientista entenda que situações não-determinísticas demandam o uso de estatística para quantificar um valor médio de performance e seu desvio. Novamente, fique atento pois essa dica não será mais dada a partir de agora.\n",
    "\n",
    "**Nome do arquivo**: &ldquo;experimento GA.02 - performance caixas binarias&rdquo;\n"
   ]
  },
  {
   "cell_type": "markdown",
   "metadata": {},
   "source": [
    "## Descrição do problema\n",
    "\n"
   ]
  },
  {
   "cell_type": "markdown",
   "metadata": {},
   "source": [
    "Não tem!\n",
    "\n"
   ]
  },
  {
   "cell_type": "markdown",
   "metadata": {},
   "source": [
    "## Importações\n",
    "\n"
   ]
  },
  {
   "cell_type": "code",
   "execution_count": null,
   "metadata": {},
   "outputs": [],
   "source": [
    "import random\n",
    "import time\n",
    "from funcoes import funcao_objetivo_cb\n",
    "import itertools"
   ]
  },
  {
   "cell_type": "markdown",
   "metadata": {},
   "source": [
    "## Códigos e discussão\n",
    "\n"
   ]
  },
  {
   "cell_type": "markdown",
   "metadata": {},
   "source": [
    "Primeiro vou basicamente trazer todos os códigos dos 3 algoritmos e rodá-los aqui com os contadores de tempo."
   ]
  },
  {
   "cell_type": "markdown",
   "metadata": {},
   "source": [
    "### Busca aleatoria"
   ]
  },
  {
   "cell_type": "code",
   "execution_count": null,
   "metadata": {},
   "outputs": [],
   "source": [
    "# preciso de uma lista para representar meu individuo\n",
    "# quantidade de elementos na lista é o número de genes\n",
    "# cada gene pode ser 0 ou 1, vou gerar esse números aleatoriamente\n",
    "\n",
    "\n",
    "def gene_cb():\n",
    "    \"\"\"Gera um gene válido para o problema das caixas binárias\n",
    "    \n",
    "    Return:\n",
    "      Um valor zero ou um.\n",
    "    \"\"\"\n",
    "    lista = [0, 1]\n",
    "    gene = random.choice(lista)\n",
    "    return gene\n",
    "\n",
    "def individuo_cb(n):\n",
    "    \"\"\"Gera um individuo para o problema das caixas binárias.\n",
    "    \n",
    "    Args:\n",
    "      n: número de genes do indivíduo.\n",
    "    \n",
    "    Return:\n",
    "       Uma lista com n genes. Cada gene é um valor zero ou um.\n",
    "    \"\"\"\n",
    "    individuo = []\n",
    "    for i in range(n):\n",
    "        gene = gene_cb()\n",
    "        individuo.append(gene)\n",
    "    return individuo\n",
    "\n",
    "\n",
    "def funcao_objetivo_cb(individuo):\n",
    "    \"\"\"Computa a função objetivo no problema das caixas binárias.\n",
    "    \n",
    "    Args:\n",
    "      individiuo: lista contendo os genes das caixas binárias\n",
    "    \n",
    "    Return:\n",
    "      Um valor representando a soma dos genes do individuo.\n",
    "    \"\"\"\n",
    "    return sum(individuo)"
   ]
  },
  {
   "cell_type": "code",
   "execution_count": null,
   "metadata": {},
   "outputs": [],
   "source": [
    "# constantes\n",
    "\n",
    "NUM_CANDIDATOS = 16 #quantas vezes eu vou rodar o código\n",
    "NUM_GENES = 4 #num de genes/caixas\n",
    "#eu escolhi 16 pq em tese é o número ideal para essa situação com 2 variaveis e 4 caixas\n",
    "#em tese ao menos 1 dos 16 candidatos vão representar o 100% de expressão (1,1,1,1)"
   ]
  },
  {
   "cell_type": "code",
   "execution_count": null,
   "metadata": {},
   "outputs": [
    {
     "name": "stdout",
     "output_type": "stream",
     "text": [
      "[1, 1, 0, 0] 2\n",
      "[1, 1, 1, 0] 3\n",
      "[1, 0, 0, 1] 2\n",
      "[1, 0, 1, 1] 3\n",
      "[0, 1, 0, 0] 1\n",
      "[1, 0, 1, 1] 3\n",
      "[0, 1, 0, 0] 1\n",
      "[0, 1, 0, 1] 2\n",
      "[1, 1, 1, 0] 3\n",
      "[1, 0, 1, 1] 3\n",
      "[1, 1, 1, 0] 3\n",
      "[0, 1, 0, 0] 1\n",
      "[1, 1, 0, 1] 3\n",
      "[0, 1, 1, 1] 3\n",
      "[1, 1, 1, 0] 3\n",
      "[1, 1, 0, 0] 2\n"
     ]
    }
   ],
   "source": [
    "ticA = time.perf_counter()\n",
    "\n",
    "for n in range(NUM_CANDIDATOS):\n",
    "    candidato = individuo_cb(NUM_GENES)\n",
    "    fobj = funcao_objetivo_cb(candidato)\n",
    "    print(candidato, fobj)\n",
    "    \n",
    "    tocA = time.perf_counter()"
   ]
  },
  {
   "cell_type": "markdown",
   "metadata": {},
   "source": [
    "### Busca em grade"
   ]
  },
  {
   "cell_type": "code",
   "execution_count": null,
   "metadata": {},
   "outputs": [],
   "source": [
    "def funcao_objetivo_cb(individuo):\n",
    "    \"\"\"Computa a função objetivo no problema das caixas binárias.\n",
    "    \n",
    "    Args:\n",
    "      individiuo: lista contendo os genes das caixas binárias\n",
    "    \n",
    "    Return:\n",
    "      Um valor representando a soma dos genes do individuo.\n",
    "    \"\"\"\n",
    "    return sum(individuo)"
   ]
  },
  {
   "cell_type": "code",
   "execution_count": null,
   "metadata": {},
   "outputs": [
    {
     "name": "stdout",
     "output_type": "stream",
     "text": [
      "[0, 0, 0, 0] 0\n",
      "[0, 0, 0, 1] 1\n",
      "[0, 0, 1, 0] 1\n",
      "[0, 0, 1, 1] 2\n",
      "[0, 1, 0, 0] 1\n",
      "[0, 1, 0, 1] 2\n",
      "[0, 1, 1, 0] 2\n",
      "[0, 1, 1, 1] 3\n",
      "[1, 0, 0, 0] 1\n",
      "[1, 0, 0, 1] 2\n",
      "[1, 0, 1, 0] 2\n",
      "[1, 0, 1, 1] 3\n",
      "[1, 1, 0, 0] 2\n",
      "[1, 1, 0, 1] 3\n",
      "[1, 1, 1, 0] 3\n",
      "[1, 1, 1, 1] 4\n"
     ]
    }
   ],
   "source": [
    "ticG = time.perf_counter()\n",
    "\n",
    "for gene1 in [0,1]:\n",
    "    for gene2 in [0,1]:\n",
    "        for gene3 in [0,1]:\n",
    "            for gene4 in [0,1]:\n",
    "                individuo = [gene1, gene2, gene3, gene4]\n",
    "                funcobj = funcao_objetivo_cb(individuo)\n",
    "                print(individuo, funcobj)\n",
    "                \n",
    "                tocG = time.perf_counter()"
   ]
  },
  {
   "cell_type": "code",
   "execution_count": 14,
   "metadata": {},
   "outputs": [
    {
     "name": "stdout",
     "output_type": "stream",
     "text": [
      "(0, 0, 0, 0) 0\n",
      "(0, 0, 0, 1) 1\n",
      "(0, 0, 1, 0) 1\n",
      "(0, 0, 1, 1) 2\n",
      "(0, 1, 0, 0) 1\n",
      "(0, 1, 0, 1) 2\n",
      "(0, 1, 1, 0) 2\n",
      "(0, 1, 1, 1) 3\n",
      "(1, 0, 0, 0) 1\n",
      "(1, 0, 0, 1) 2\n",
      "(1, 0, 1, 0) 2\n",
      "(1, 0, 1, 1) 3\n",
      "(1, 1, 0, 0) 2\n",
      "(1, 1, 0, 1) 3\n",
      "(1, 1, 1, 0) 3\n",
      "(1, 1, 1, 1) 4\n"
     ]
    }
   ],
   "source": [
    "ticG2 = time.perf_counter()\n",
    "\n",
    "for individuo in itertools.product([0, 1], repeat=4):\n",
    "    funcobj = funcao_objetivo_cb(individuo)\n",
    "    print(individuo, funcobj)\n",
    "\n",
    "    tocG2 = time.perf_counter()"
   ]
  },
  {
   "cell_type": "markdown",
   "metadata": {},
   "source": [
    "### AG"
   ]
  },
  {
   "cell_type": "code",
   "execution_count": null,
   "metadata": {},
   "outputs": [],
   "source": []
  },
  {
   "cell_type": "markdown",
   "metadata": {},
   "source": [
    "### Performance"
   ]
  },
  {
   "cell_type": "code",
   "execution_count": null,
   "metadata": {
    "tags": []
   },
   "outputs": [],
   "source": [
    "#Aqui temos dois algoritmos que contam tempo, eles foram produzidos nas matérias dos semestres passados, apenas vou reciclar eles\n",
    "\n",
    "#1\n",
    "#lista = [0] * 10  # cria uma lista com 10 itens, todos eles com o valor zero\n",
    "#inicio = time.perf_counter()\n",
    "#maximo = encontra_maximo(lista)\n",
    "#fim = time.perf_counter()\n",
    "#print(\"Uma lista de tamanho\", len(lista), \"itens demorou\", fim - inicio, \"segundos\")\n",
    "\n",
    "#2\n",
    "#tic = time.perf_counter()\n",
    "#print(sorted(encontrarprimos(1,30000)))\n",
    "#toc = time.perf_counter()\n",
    "#print(f\"O código rodou em {toc - tic:0.4f} segundos\")\n",
    "\n",
    "#Código reciclado a seguir;\n",
    "#Mas vou seguir os mesmos conceitos utilizados nos semestres passados, vamos contar o tempo de início com \"tic=time.perf_counter()\" e o de fim com \"toc = time.perf_counter()\"\n",
    "#Ai para saber o tempo, temos apenas que subtrair esse tempo"
   ]
  },
  {
   "cell_type": "code",
   "execution_count": null,
   "metadata": {},
   "outputs": [],
   "source": [
    "#Perfomance de Busca Aleatória\n",
    "\n",
    "#ticA = time.perf_counter()\n",
    "#tocA = time.perf_counter()\n",
    "\n",
    "TICTOCA = tocA - ticA\n",
    "print(\"O código de Busca Aleatória, Durou essa penca de tempo aqui:\", TICTOCA)"
   ]
  },
  {
   "cell_type": "code",
   "execution_count": null,
   "metadata": {},
   "outputs": [],
   "source": [
    "# Performance de Busca em grade\n",
    "\n",
    "# ticG = time.perf_counter()\n",
    "# tocG = time.perf_counter()\n",
    "\n",
    "TICTOCG = tocG - ticG\n",
    "print(\n",
    "    \"O primeiro código de Grade, durou essa penca de tempo aqui:\", TICTOCG, \"segundos\"\n",
    ")\n",
    "TICTOCG2 = tocG2 - ticG2\n",
    "print(\n",
    "    \"O segundo código de Grade, durou essa penca de tempo aqui:\", TICTOCG2, \"segundos\"\n",
    ")"
   ]
  },
  {
   "cell_type": "code",
   "execution_count": null,
   "metadata": {},
   "outputs": [],
   "source": [
    "#Perfomance de AL\n",
    "\n",
    "#ticAL = time.perf_counter()\n",
    "#tocAL = time.perf_counter()\n",
    "\n",
    "TICTOCAL = tocAL - ticAL\n",
    "print(\"AL, durou esse tantam de tempo aqui:\", TICTOCAL)"
   ]
  },
  {
   "cell_type": "markdown",
   "metadata": {},
   "source": [
    "## Conclusão\n",
    "\n"
   ]
  },
  {
   "cell_type": "markdown",
   "metadata": {},
   "source": [
    "A Busca aleatória demorou 0.0036s\n",
    "\n",
    "A Busca em grade demorou em média 0.0011s\n",
    "\n",
    "O Algoritmo genético demorou...\n",
    "\n",
    "Logo, podemos concluir que o XXXX é o melhor algoritmo de otimização entre os 3!"
   ]
  },
  {
   "cell_type": "markdown",
   "metadata": {},
   "source": [
    "## Hipocampo"
   ]
  },
  {
   "cell_type": "markdown",
   "metadata": {},
   "source": [
    "Esse experimento solo, foi literalmente para me lembrar que eu já consegui no passado e eu vou conseguir dnv, mas muito obrigado por acreditar em mim Dani.\n",
    "\n",
    "Tive dúvidas sobre o tipo de código de contagem de tempo que eu deveria usar \"time.time\" ou \"time.perf_]counter()\", mas escolhi \"perf_counter()\", pois aparentemente ele conta o tempo apenas do código rodando e ignora os outros processos da CPU."
   ]
  },
  {
   "cell_type": "markdown",
   "metadata": {},
   "source": [
    "## Playground\n",
    "\n"
   ]
  },
  {
   "cell_type": "code",
   "execution_count": null,
   "metadata": {},
   "outputs": [],
   "source": []
  }
 ],
 "metadata": {
  "kernelspec": {
   "display_name": "ilumpy",
   "language": "python",
   "name": "ilumpy"
  },
  "language_info": {
   "codemirror_mode": {
    "name": "ipython",
    "version": 3
   },
   "file_extension": ".py",
   "mimetype": "text/x-python",
   "name": "python",
   "nbconvert_exporter": "python",
   "pygments_lexer": "ipython3",
   "version": "3.9.7"
  },
  "org": null
 },
 "nbformat": 4,
 "nbformat_minor": 4
}
