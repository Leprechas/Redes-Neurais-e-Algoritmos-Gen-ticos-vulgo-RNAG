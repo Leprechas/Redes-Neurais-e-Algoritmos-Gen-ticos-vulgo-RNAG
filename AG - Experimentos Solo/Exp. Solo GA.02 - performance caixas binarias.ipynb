{
 "cells": [
  {
   "cell_type": "markdown",
   "metadata": {},
   "source": [
    "Comparando as performances\n",
    "===============\n",
    "\n"
   ]
  },
  {
   "cell_type": "markdown",
   "metadata": {},
   "source": [
    "## Introdução\n",
    "\n"
   ]
  },
  {
   "cell_type": "markdown",
   "metadata": {},
   "source": [
    "Não tem!\n"
   ]
  },
  {
   "cell_type": "markdown",
   "metadata": {},
   "source": [
    "## Reflexões\n",
    "\n"
   ]
  },
  {
   "cell_type": "markdown",
   "metadata": {},
   "source": [
    "Não tem!\n",
    "\n",
    "\n"
   ]
  },
  {
   "cell_type": "markdown",
   "metadata": {},
   "source": [
    "## Objetivo\n",
    "\n"
   ]
  },
  {
   "cell_type": "markdown",
   "metadata": {},
   "source": [
    "**Objetivo**: Compare a performance de três algoritmos diferentes de otimização (busca aleatória, busca em grade e algoritmos genéticos) para resolver o problema das caixas binárias.\n",
    "\n",
    "**Lembrete**: nós estudamos performance de algoritmos durante lógica computacional.\n",
    "\n",
    "**Dica**: O enunciado do objetivo não definiu o número de caixas. É esperado de um cientista que ele entenda que não adianta resolver esse problema para apenas um valor de $n$ caixas, mas sim buscar uma tendência resolvendo esse problema para alguns valores de $n$ diferentes. Fique atento pois essa dica não será mais dada a partir de agora mesmo que seja necessário usar desse bom senso científico em problemas futuros.\n",
    "\n",
    "**Dica 2**: Lembre-se de que o único algoritmo determinístico dos três sendo estudados é o de busca em grade. Sendo assim, é esperado que um cientista entenda que situações não-determinísticas demandam o uso de estatística para quantificar um valor médio de performance e seu desvio. Novamente, fique atento pois essa dica não será mais dada a partir de agora.\n",
    "\n",
    "**Nome do arquivo**: &ldquo;experimento GA.02 - performance caixas binarias&rdquo;\n"
   ]
  },
  {
   "cell_type": "markdown",
   "metadata": {},
   "source": [
    "## Descrição do problema\n",
    "\n"
   ]
  },
  {
   "cell_type": "markdown",
   "metadata": {},
   "source": [
    "Não tem!\n",
    "\n"
   ]
  },
  {
   "cell_type": "markdown",
   "metadata": {},
   "source": [
    "## Importações\n",
    "\n"
   ]
  },
  {
   "cell_type": "code",
   "execution_count": 1,
   "metadata": {},
   "outputs": [],
   "source": [
    "import random\n",
    "import time\n",
    "import itertools\n",
    "import timeit\n",
    "from funcoes import funcao_objetivo_cb, individuo_cb\n",
    "from funcoes import populacao_cb as cria_pop_ini\n",
    "from funcoes import funcao_obj_pop_cb as funcao_objetivo_pop\n",
    "from funcoes import selecao_roleta_max as funcao_selecao\n",
    "from funcoes import cruzamento_ponto_simples as funcao_cruzamento\n",
    "from funcoes import mutacao_cb as funcao_mutacao"
   ]
  },
  {
   "cell_type": "markdown",
   "metadata": {},
   "source": [
    "## Códigos e discussão\n",
    "\n"
   ]
  },
  {
   "cell_type": "markdown",
   "metadata": {},
   "source": [
    "Primeiro vou basicamente trazer todos os códigos dos 3 algoritmos e rodá-los aqui com os contadores de tempo."
   ]
  },
  {
   "cell_type": "markdown",
   "metadata": {},
   "source": [
    "### Busca aleatoria"
   ]
  },
  {
   "cell_type": "code",
   "execution_count": 2,
   "metadata": {},
   "outputs": [],
   "source": [
    "# constantes\n",
    "\n",
    "NUM_CANDIDATOS = 16 #quantas vezes eu vou rodar o código\n",
    "NUM_GENES = 4 #num de genes/caixas\n",
    "#eu escolhi 16 pq em tese é o número ideal para essa situação com 2 variaveis e 4 caixas\n",
    "#em tese ao menos 1 dos 16 candidatos vão representar o 100% de expressão (1,1,1,1)"
   ]
  },
  {
   "cell_type": "code",
   "execution_count": 3,
   "metadata": {
    "tags": []
   },
   "outputs": [],
   "source": [
    "#ticA = time.perf_counter()\n",
    "\n",
    "#for n in range(NUM_CANDIDATOS):\n",
    "#    candidato = individuo_cb(NUM_GENES)\n",
    "#    fobj = funcao_objetivo_cb(candidato)\n",
    "#    print(candidato, fobj)\n",
    "    \n",
    "#    tocA = time.perf_counter()"
   ]
  },
  {
   "cell_type": "markdown",
   "metadata": {},
   "source": [
    "## Performance com timeit BA"
   ]
  },
  {
   "cell_type": "code",
   "execution_count": 4,
   "metadata": {},
   "outputs": [
    {
     "name": "stdout",
     "output_type": "stream",
     "text": [
      "Tempo gasto: 0.013667699999999616 segundos\n"
     ]
    }
   ],
   "source": [
    "def BA():\n",
    "    for n in range(NUM_CANDIDATOS):\n",
    "        candidato = individuo_cb(NUM_GENES)\n",
    "        fobj = funcao_objetivo_cb(candidato)\n",
    "        #print(candidato, fobj) retirei esse print pq ele estava poluindo a tela gerando print do experimento 100x\n",
    "    \n",
    "Pencas = timeit.timeit(BA, number=100)\n",
    "print(f\"Tempo gasto: {Pencas} segundos\")"
   ]
  },
  {
   "cell_type": "markdown",
   "metadata": {},
   "source": [
    "### Busca em grade"
   ]
  },
  {
   "cell_type": "code",
   "execution_count": 5,
   "metadata": {},
   "outputs": [],
   "source": [
    "#ticG = time.perf_counter()\n",
    "\n",
    "#for gene1 in [0,1]:\n",
    "#    for gene2 in [0,1]:\n",
    "#        for gene3 in [0,1]:\n",
    "#            for gene4 in [0,1]:\n",
    "#                individuo = [gene1, gene2, gene3, gene4]\n",
    "#                funcobj = funcao_objetivo_cb(individuo)\n",
    "#                print(individuo, funcobj)\n",
    "#                \n",
    "#                tocG = time.perf_counter()"
   ]
  },
  {
   "cell_type": "code",
   "execution_count": 6,
   "metadata": {},
   "outputs": [],
   "source": [
    "#ticG2 = time.perf_counter()\n",
    "\n",
    "#for individuo in itertools.product([0, 1], repeat=4):\n",
    "#    funcobj = funcao_objetivo_cb(individuo)\n",
    "#    print(individuo, funcobj)\n",
    "#\n",
    "#    tocG2 = time.perf_counter()"
   ]
  },
  {
   "cell_type": "markdown",
   "metadata": {},
   "source": [
    "## Performance com timeit BG"
   ]
  },
  {
   "cell_type": "code",
   "execution_count": 7,
   "metadata": {},
   "outputs": [
    {
     "name": "stdout",
     "output_type": "stream",
     "text": [
      "Tempo gasto: 0.0013316999999997137 segundos\n"
     ]
    }
   ],
   "source": [
    "def G1():\n",
    "    for gene1 in [0,1]:\n",
    "        for gene2 in [0,1]:\n",
    "            for gene3 in [0,1]:\n",
    "                for gene4 in [0,1]:\n",
    "                    individuo = [gene1, gene2, gene3, gene4]\n",
    "                    funcobj = funcao_objetivo_cb(individuo)\n",
    "#                print(individuo, funcobj) retirado pelo mesmo motivo de BA\n",
    "\n",
    "PencasG1 = timeit.timeit(G1, number=100)\n",
    "print(f\"Tempo gasto: {PencasG1} segundos\")"
   ]
  },
  {
   "cell_type": "code",
   "execution_count": 8,
   "metadata": {},
   "outputs": [
    {
     "name": "stdout",
     "output_type": "stream",
     "text": [
      "Tempo gasto: 0.0007508000000000514 segundos\n"
     ]
    }
   ],
   "source": [
    "def G2():\n",
    "    for individuo in itertools.product([0, 1], repeat=4):\n",
    "        funcobj = funcao_objetivo_cb(individuo)\n",
    "        #print(individuo, funcobj)\n",
    "        \n",
    "PencasG2 = timeit.timeit(G2, number=100)\n",
    "print(f\"Tempo gasto: {PencasG2} segundos\")"
   ]
  },
  {
   "cell_type": "markdown",
   "metadata": {},
   "source": [
    "### AG"
   ]
  },
  {
   "cell_type": "code",
   "execution_count": 9,
   "metadata": {},
   "outputs": [],
   "source": [
    "#Constantes\n",
    "TAMANHO_POP = 6\n",
    "NUM_GENES = 4\n",
    "NUM_GERACOES = 10\n",
    "CHANCE_CRUZAMENTO = 0.5\n",
    "CHANCE_MUTACAO = 0.05"
   ]
  },
  {
   "cell_type": "code",
   "execution_count": 10,
   "metadata": {},
   "outputs": [],
   "source": [
    "#ticAL = time.perf_counter()\n",
    "\n",
    "#populacao = cria_pop_ini(TAMANHO_POP, NUM_GENES)\n",
    "\n",
    "#print(populacao)\n",
    "#print()\n",
    "\n",
    "# o \"_\" indica que a função não é tão importante\n",
    "#for n in range(NUM_GERACOES):\n",
    "    # função objetivo para a população e criar o hall da fama;\n",
    "  #  fitness = funcao_objetivo_pop(populacao)\n",
    "\n",
    "    # Seleção dos indivíduos\n",
    " #   populacao = funcao_selecao(populacao, fitness)\n",
    "\n",
    "    #pais = populacao[0::2]\n",
    "    #maes = populacao[1::2]\n",
    "\n",
    "   # contador = 0\n",
    "\n",
    "  #  for pai, mae in zip(pais, maes):\n",
    "       # if random.random() <= CHANCE_CRUZAMENTO:\n",
    "      #      filho1, filho2 = funcao_cruzamento(pai, mae)\n",
    "     #       populacao[contador] = filho1\n",
    "    #        populacao[contador + 1] = filho2\n",
    "   #     contador = contador + 2\n",
    "        \n",
    "    #for i in range(len(populacao)):\n",
    "     #   if random.random() <= CHANCE_MUTACAO:\n",
    "    #        individuo = populacao[i]\n",
    "   #         print()\n",
    "  #          print(individuo)\n",
    " #           populacao[i] = funcao_mutacao(individuo)\n",
    "#            print(populacao[i])\n",
    "            \n",
    "#tocAL = time.perf_counter()\n",
    "                  \n",
    "#print()\n",
    "#print(\"População final:\", populacao)"
   ]
  },
  {
   "cell_type": "markdown",
   "metadata": {},
   "source": [
    "## Performance com timeit AG"
   ]
  },
  {
   "cell_type": "code",
   "execution_count": 11,
   "metadata": {},
   "outputs": [
    {
     "name": "stdout",
     "output_type": "stream",
     "text": [
      "Tempo gasto: 0.008760999999999797 segundos\n"
     ]
    }
   ],
   "source": [
    "#Apaguei todos os prints e comentarios desse código, mas se quiser ver ele completo, basta ver a célula de cima\n",
    "\n",
    "def AG():\n",
    "    populacao = cria_pop_ini(TAMANHO_POP, NUM_GENES)\n",
    "\n",
    "    for n in range(NUM_GERACOES):\n",
    "        fitness = funcao_objetivo_pop(populacao)\n",
    "    populacao = funcao_selecao(populacao, fitness)\n",
    "\n",
    "    pais = populacao[0::2]\n",
    "    maes = populacao[1::2]\n",
    "\n",
    "    contador = 0\n",
    "\n",
    "    for pai, mae in zip(pais, maes):\n",
    "        if random.random() <= CHANCE_CRUZAMENTO:\n",
    "            filho1, filho2 = funcao_cruzamento(pai, mae)\n",
    "            populacao[contador] = filho1\n",
    "            populacao[contador + 1] = filho2\n",
    "        contador = contador + 2\n",
    "    for i in range(len(populacao)):\n",
    "        if random.random() <= CHANCE_MUTACAO:\n",
    "            individuo = populacao[i]\n",
    "            populacao[i] = funcao_mutacao(individuo)\n",
    "\n",
    "\n",
    "PencasAG = timeit.timeit(AG, number=100)\n",
    "print(f\"Tempo gasto: {PencasAG} segundos\")"
   ]
  },
  {
   "cell_type": "markdown",
   "metadata": {},
   "source": [
    "### Performance"
   ]
  },
  {
   "cell_type": "code",
   "execution_count": 12,
   "metadata": {
    "tags": []
   },
   "outputs": [],
   "source": [
    "#Aqui temos dois algoritmos que contam tempo, eles foram produzidos nas matérias dos semestres passados, apenas vou reciclar eles\n",
    "\n",
    "#1\n",
    "#lista = [0] * 10  # cria uma lista com 10 itens, todos eles com o valor zero\n",
    "#inicio = time.perf_counter()\n",
    "#maximo = encontra_maximo(lista)\n",
    "#fim = time.perf_counter()\n",
    "#print(\"Uma lista de tamanho\", len(lista), \"itens demorou\", fim - inicio, \"segundos\")\n",
    "\n",
    "#2\n",
    "#tic = time.perf_counter()\n",
    "#print(sorted(encontrarprimos(1,30000)))\n",
    "#toc = time.perf_counter()\n",
    "#print(f\"O código rodou em {toc - tic:0.4f} segundos\")\n",
    "\n",
    "#Código reciclado a seguir;\n",
    "#Mas vou seguir os mesmos conceitos utilizados nos semestres passados, vamos contar o tempo de início com \"tic=time.perf_counter()\" e o de fim com \"toc = time.perf_counter()\"\n",
    "#Ai para saber o tempo, temos apenas que subtrair esse tempo"
   ]
  },
  {
   "cell_type": "code",
   "execution_count": 13,
   "metadata": {},
   "outputs": [],
   "source": [
    "#Perfomance de Busca Aleatória\n",
    "\n",
    "#ticA = time.perf_counter()\n",
    "#tocA = time.perf_counter()\n",
    "\n",
    "#TICTOCA = tocA - ticA\n",
    "#print(\"O código de Busca Aleatória, Durou essa penca de tempo aqui:\", TICTOCA)"
   ]
  },
  {
   "cell_type": "code",
   "execution_count": 14,
   "metadata": {},
   "outputs": [],
   "source": [
    "# Performance de Busca em grade\n",
    "\n",
    "# ticG = time.perf_counter()\n",
    "# tocG = time.perf_counter()\n",
    "\n",
    "#TICTOCG = tocG - ticG\n",
    "#print(\n",
    "#    \"O primeiro código de Grade, durou essa penca de tempo aqui:\", TICTOCG, \"segundos\"\n",
    "#)\n",
    "#TICTOCG2 = tocG2 - ticG2\n",
    "#print(\n",
    "#    \"O segundo código de Grade, durou essa penca de tempo aqui:\", TICTOCG2, \"segundos\"\n",
    "#)"
   ]
  },
  {
   "cell_type": "code",
   "execution_count": 15,
   "metadata": {},
   "outputs": [],
   "source": [
    "#Perfomance de AL\n",
    "\n",
    "#ticAL = time.perf_counter()\n",
    "#tocAL = time.perf_counter()\n",
    "\n",
    "#TICTOCAL = tocAL - ticAL\n",
    "#print(\"AL, durou esse tantam de tempo aqui:\", TICTOCAL)"
   ]
  },
  {
   "cell_type": "markdown",
   "metadata": {},
   "source": [
    "## Conclusão\n",
    "\n"
   ]
  },
  {
   "cell_type": "markdown",
   "metadata": {},
   "source": [
    "Primeiro eu fiz o calculo de performance com a função time, mas achei a variação muito grande, segue os resultados;\n",
    "\n",
    "- A Busca aleatória demorou 0.0036s +/- 0.0001s\n",
    "\n",
    "- A Busca em grade demorou em média 0.0010s +/- 0.0001s\n",
    "\n",
    "- O Algoritmo genético demorou 0.0017s +/- 0.0005s\n",
    "\n",
    "Então resolvi fazer o calculo com a função timeit;\n",
    "\n",
    "- A Busca aleatória demorou 0.0052s +/- 0.0005s\n",
    "\n",
    "- A Busca em grade demorou em média 0.004s +/- 0.0001s\n",
    "\n",
    "- O Algoritmo genético demorou 0.0040s +/- 0.0005s\n",
    "\n",
    "Logo, considerando as duas funções \"time\" e \"timeit\", podemos concluir que o AG é o melhor algoritmo de otimização entre os 3! Mas como tudo na vida, essa resposta depende de um contexto e não é justo comparar um código probabilístico (BA e AG) com um código determinístico (BG), afinal eles têm bases de funcionamento diferentes e como estou comparando os 3 códigos considerando tempo x complexidade x adaptabilidade, temos o AG como melhor algoritmo.\n",
    "\n",
    "Pois, mesmo que o tempo dele seja bem maior que o de Busca em grade, isso é uma questão de contexto. Pois, eu tentei resolver o experimento A.04 com Busca em grade e o programa quase deu tela azul no meu computador, mas quando eu tento resolver o mesmo problema com AL eu tenho um código funcional que não vai destruir o meu computador.\n",
    "\n",
    "Para conferir os resultados da função time, basta retirar as \"#\"\n",
    "\n",
    "Fonte da função timeit: https://docs.python.org/3/library/timeit.html"
   ]
  },
  {
   "cell_type": "markdown",
   "metadata": {},
   "source": [
    "## Hipocampo"
   ]
  },
  {
   "cell_type": "markdown",
   "metadata": {},
   "source": [
    "Esse experimento solo, foi literalmente para me lembrar que eu já consegui no passado e eu vou conseguir dnv, mas muito obrigado por acreditar em mim Dani.\n",
    "\n",
    "Tive dúvidas sobre o tipo de código de contagem de tempo que eu deveria usar \"time.time\" ou \"time.perf_]counter()\", mas escolhi \"perf_counter()\", pois aparentemente ele conta o tempo apenas do código rodando e ignora os outros processos da CPU. Você pode ver esse código no \"experimento A.04\", no tópico \"Códigos e discussão BÔNUS\", e no fim de tudo eu usei a função timeit, mas deu na mesma que usar a time akakkak"
   ]
  },
  {
   "cell_type": "markdown",
   "metadata": {},
   "source": [
    "## Playground\n",
    "\n"
   ]
  },
  {
   "cell_type": "code",
   "execution_count": null,
   "metadata": {},
   "outputs": [],
   "source": []
  }
 ],
 "metadata": {
  "kernelspec": {
   "display_name": "ilumpy",
   "language": "python",
   "name": "ilumpy"
  },
  "language_info": {
   "codemirror_mode": {
    "name": "ipython",
    "version": 3
   },
   "file_extension": ".py",
   "mimetype": "text/x-python",
   "name": "python",
   "nbconvert_exporter": "python",
   "pygments_lexer": "ipython3",
   "version": "3.9.7"
  },
  "org": null
 },
 "nbformat": 4,
 "nbformat_minor": 4
}
